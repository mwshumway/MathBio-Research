{
 "cells": [
  {
   "cell_type": "code",
   "execution_count": 2,
   "metadata": {
    "ExecuteTime": {
     "end_time": "2023-12-12T02:16:46.282412Z",
     "start_time": "2023-12-12T02:16:46.268624Z"
    },
    "collapsed": true
   },
   "outputs": [],
   "source": [
    "import numpy as np\n",
    "from matplotlib import pyplot as plt\n",
    "from scipy.integrate import odeint\n",
    "from scipy import optimize as opt\n"
   ]
  },
  {
   "cell_type": "code",
   "execution_count": 21,
   "metadata": {
    "ExecuteTime": {
     "end_time": "2023-12-12T02:16:46.282560Z",
     "start_time": "2023-12-12T02:16:46.272902Z"
    }
   },
   "outputs": [],
   "source": [
    "# Params\n",
    "a = 1\n",
    "b = 1\n",
    "A_p = 314\n",
    "j = 10**2\n",
    "K_d = 0.74\n",
    "K_m = 2.5\n",
    "k = j/K_d\n",
    "V_m = 8.8 * 10**3\n",
    "V = 523\n",
    "W = 32\n",
    "y = 0.000083/4\n",
    "z = .002\n",
    "f = 0.1\n",
    "A_e = 47\n",
    "g = 0.1\n",
    "\n",
    "\n",
    "S_e = 10"
   ]
  },
  {
   "cell_type": "code",
   "execution_count": 22,
   "metadata": {
    "ExecuteTime": {
     "end_time": "2023-12-12T02:16:46.282599Z",
     "start_time": "2023-12-12T02:16:46.277220Z"
    }
   },
   "outputs": [],
   "source": [
    "def bisect_S(P, P_b, P_u, E, E_b, E_u):\n",
    "    S = np.linspace(0,20, 10000)\n",
    "    dSdt = lambda S: -(k/W)*S*((A_p/V)*P(S) + (A_e/V)*E(S)) + (j+a)*((A_p/V)*P_b(S) + (A_e/V)*E_b(S)) - V_m*S / (V*(K_m +S))\n",
    "    plt.plot(S, dSdt(S))\n",
    "    plt.ylim((-1,1))\n",
    "    plt.axhline(y=0, color='r')\n",
    "    plt.xlabel(\"S\")\n",
    "    plt.ylabel(r\"$\\frac{dS}{dt}$\")\n",
    "    plt.legend([\"Uracil\", \"y=0\"])\n",
    "    plt.show()"
   ]
  },
  {
   "cell_type": "code",
   "execution_count": 23,
   "metadata": {
    "ExecuteTime": {
     "end_time": "2023-12-12T02:16:46.295722Z",
     "start_time": "2023-12-12T02:16:46.289605Z"
    }
   },
   "outputs": [],
   "source": [
    "P   = lambda S: (A_e*W**2*a**2*b*f*y + A_e*W**2*a**2*f*y*z + 2*A_e*W**2*a*b*f*j*y + 2*A_e*W**2*a*f*j*y*z + A_e*W**2*b*f*j**2*y + A_e*W**2*f*j**2*y*z + A_p*S*W*a**2*k*y*z + A_p*S*W*a*j*k*y*z)/(A_e*S**2*W*a**2*f*k*z + A_e*S**2*W*a*f*j*k*z + A_e*S*S_e*W**2*a**2*f*k*z + A_e*S*S_e*W**2*a*f*j*k*z + A_p*S**3*a**2*k**2*z + A_p*S**2*S_e*W*a**2*k**2*z)\n",
    "P_b = lambda S: (A_e*W*a*b*f*y + A_e*W*a*f*y*z + A_e*W*b*f*j*y + A_e*W*f*j*y*z + A_p*S*a*k*y*z)/(A_e*S*W*a**2*f*z + A_e*S*W*a*f*j*z + A_p*S**2*a**2*k*z)\n",
    "P_u = lambda S: (A_e**2*W*a*b*f*y + A_e**2*W*a*f*y*z + A_e**2*W*b*f*j*y + A_e**2*W*f*j*y*z + A_e*A_p*S*a*k*y*z)/(A_e*A_p*S*W*a*f*g*z + A_e*A_p*S*W*f*g*j*z + A_p**2*S**2*a*g*k*z)\n",
    "E   = lambda S: (A_p*W*a*b*y + A_p*W*b*j*y)/(A_e*S*W*a*f*z + A_e*S*W*f*j*z + A_p*S**2*a*k*z)\n",
    "E_b = lambda S: A_p*b*k*y/(A_e*W*a*f*z + A_e*W*f*j*z + A_p*S*a*k*z)\n",
    "E_u = lambda S: y/(S*z)"
   ]
  },
  {
   "cell_type": "code",
   "execution_count": 24,
   "metadata": {
    "ExecuteTime": {
     "end_time": "2023-12-12T02:16:46.378090Z",
     "start_time": "2023-12-12T02:16:46.292943Z"
    }
   },
   "outputs": [
    {
     "name": "stderr",
     "output_type": "stream",
     "text": [
      "/var/folders/8v/664f0v810js5hmb27xj96f040000gn/T/ipykernel_8123/2856790791.py:1: RuntimeWarning: divide by zero encountered in divide\n",
      "  P   = lambda S: (A_e*W**2*a**2*b*f*y + A_e*W**2*a**2*f*y*z + 2*A_e*W**2*a*b*f*j*y + 2*A_e*W**2*a*f*j*y*z + A_e*W**2*b*f*j**2*y + A_e*W**2*f*j**2*y*z + A_p*S*W*a**2*k*y*z + A_p*S*W*a*j*k*y*z)/(A_e*S**2*W*a**2*f*k*z + A_e*S**2*W*a*f*j*k*z + A_e*S*S_e*W**2*a**2*f*k*z + A_e*S*S_e*W**2*a*f*j*k*z + A_p*S**3*a**2*k**2*z + A_p*S**2*S_e*W*a**2*k**2*z)\n",
      "/var/folders/8v/664f0v810js5hmb27xj96f040000gn/T/ipykernel_8123/2856790791.py:4: RuntimeWarning: divide by zero encountered in divide\n",
      "  E   = lambda S: (A_p*W*a*b*y + A_p*W*b*j*y)/(A_e*S*W*a*f*z + A_e*S*W*f*j*z + A_p*S**2*a*k*z)\n",
      "/var/folders/8v/664f0v810js5hmb27xj96f040000gn/T/ipykernel_8123/609044813.py:3: RuntimeWarning: invalid value encountered in multiply\n",
      "  dSdt = lambda S: -(k/W)*S*((A_p/V)*P(S) + (A_e/V)*E(S)) + (j+a)*((A_p/V)*P_b(S) + (A_e/V)*E_b(S)) - V_m*S / (V*(K_m +S))\n",
      "/var/folders/8v/664f0v810js5hmb27xj96f040000gn/T/ipykernel_8123/2856790791.py:2: RuntimeWarning: divide by zero encountered in divide\n",
      "  P_b = lambda S: (A_e*W*a*b*f*y + A_e*W*a*f*y*z + A_e*W*b*f*j*y + A_e*W*f*j*y*z + A_p*S*a*k*y*z)/(A_e*S*W*a**2*f*z + A_e*S*W*a*f*j*z + A_p*S**2*a**2*k*z)\n"
     ]
    },
    {
     "data": {
      "image/png": "[encoded data removed]",
      "text/plain": [
       "<Figure size 640x480 with 1 Axes>"
      ]
     },
     "metadata": {},
     "output_type": "display_data"
    },
    {
     "name": "stdout",
     "output_type": "stream",
     "text": [
      "The Steady State of S is:  0.24687105298331521\n"
     ]
    }
   ],
   "source": [
    "bisect_S(P, P_b, P_u, E, E_b, E_u)\n",
    "dSdt = lambda S: -(k/W)*S*((A_p/V)*P(S) + (A_e/V)*E(S)) + (j+a)*((A_p/V)*P_b(S) + (A_e/V)*E_b(S)) - V_m*S / (V*(K_m +S))\n",
    "root = opt.bisect(dSdt, 0.01, 1)\n",
    "\n",
    "print(\"The Steady State of S is: \", root)"
   ]
  },
  {
   "cell_type": "markdown",
   "metadata": {},
   "source": [
    "Compare and Verify"
   ]
  },
  {
   "cell_type": "code",
   "execution_count": 25,
   "metadata": {
    "ExecuteTime": {
     "end_time": "2023-12-12T02:16:46.392630Z",
     "start_time": "2023-12-12T02:16:46.380318Z"
    }
   },
   "outputs": [
    {
     "name": "stdout",
     "output_type": "stream",
     "text": [
      "0.24687105298331521\n",
      "0.30518492667995495\n",
      "Uracil:  False\n"
     ]
    }
   ],
   "source": [
    "def fm_func(initial_val, t, y, k, S_e, W, j, f, A_e, A_p, a, g, b, z, V_m, V, K_m):\n",
    "    P, P_b, P_u, E, E_b, E_u, S = initial_val\n",
    "\n",
    "    dPdt = y/S - k*S_e*P - (k/W)*S*P + j*P_b + f*(A_e/A_p)*E\n",
    "    dPbdt = k*S_e*P + (k/W)*S*P - j*P_b - a*P_b\n",
    "    dPudt = a*P_b - g*P_u\n",
    "    dEdt = b*E_u - (k/W)*S*E + j*E_b - f*E\n",
    "    dEbdt = (k/W)*S*E - j*E_b - a*E_b\n",
    "    dEudt = g*(A_p/A_e)*P_u - b*E_u + a*E_b - z*E_u\n",
    "    dSdt = -(k/W)*S*((A_p/V)*P + (A_e/V)*E) + (j+a)*((A_p/V)*P_b + (A_e/V)*E_b) - V_m*S / (V*(K_m +S))\n",
    "\n",
    "    return [dPdt, dPbdt, dPudt, dEdt, dEbdt, dEudt, dSdt]\n",
    "\n",
    "\n",
    "t_range = np.linspace(0, 400000, 100000)\n",
    "initial_val = [1,0,0,0,0,0,1]\n",
    "num_sol = odeint(fm_func, y0=initial_val, t=t_range, args=(y, k, S_e, W, j, f, A_e, A_p, a, g, b, z, V_m, V, K_m))[-1]\n",
    "\n",
    "print(root)\n",
    "print(num_sol[-1])\n",
    "\n",
    "print(\"Uracil: \", np.allclose(root, num_sol[-1]))"
   ]
  }
 ],
 "metadata": {
  "kernelspec": {
   "display_name": "Python 3 (ipykernel)",
   "language": "python",
   "name": "python3"
  },
  "language_info": {
   "codemirror_mode": {
    "name": "ipython",
    "version": 3
   },
   "file_extension": ".py",
   "mimetype": "text/x-python",
   "name": "python",
   "nbconvert_exporter": "python",
   "pygments_lexer": "ipython3",
   "version": "3.10.13"
  }
 },
 "nbformat": 4,
 "nbformat_minor": 1
}
