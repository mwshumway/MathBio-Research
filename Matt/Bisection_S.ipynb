{
 "cells": [
  {
   "cell_type": "code",
   "execution_count": 65,
   "metadata": {
    "collapsed": true,
    "ExecuteTime": {
     "end_time": "2023-12-12T02:16:46.282412Z",
     "start_time": "2023-12-12T02:16:46.268624Z"
    }
   },
   "outputs": [],
   "source": [
    "import numpy as np\n",
    "from matplotlib import pyplot as plt\n",
    "from scipy.integrate import odeint\n",
    "from scipy import optimize as opt\n"
   ]
  },
  {
   "cell_type": "code",
   "execution_count": 66,
   "metadata": {
    "ExecuteTime": {
     "end_time": "2023-12-12T02:16:46.282560Z",
     "start_time": "2023-12-12T02:16:46.272902Z"
    }
   },
   "outputs": [],
   "source": [
    "# Params\n",
    "a = 1\n",
    "b = 1\n",
    "A_p = 314\n",
    "j = 10**2\n",
    "K_d = 0.74\n",
    "K_m = 2.5\n",
    "k = j/K_d\n",
    "V_m = 8.8 * 10**3\n",
    "V = 523\n",
    "W = 32\n",
    "y = 0.000083\n",
    "z = .002\n",
    "f = 0.1\n",
    "A_e = 47\n",
    "g = 0.1\n",
    "\n",
    "\n",
    "S_e = 10"
   ]
  },
  {
   "cell_type": "code",
   "execution_count": 67,
   "metadata": {
    "ExecuteTime": {
     "end_time": "2023-12-12T02:16:46.282599Z",
     "start_time": "2023-12-12T02:16:46.277220Z"
    }
   },
   "outputs": [],
   "source": [
    "def bisect_S(P, P_b, E, E_b):\n",
    "    S = np.linspace(0,20, 10000)\n",
    "    dSdt = lambda S: -(k/W)*S*((A_p/V)*P(S) + (A_e/V)*E(S)) + (j+a)*((A_p/V)*P_b(S) + (A_e/V)*E_b(S)) - V_m*S / (V*(K_m +S))\n",
    "    plt.plot(S, dSdt(S))\n",
    "    plt.ylim((-1,1))\n",
    "    plt.axhline(y=0, color='r')\n",
    "    plt.xlabel(\"S\")\n",
    "    plt.ylabel(r\"$\\frac{dS}{dt}$\")\n",
    "    plt.legend([\"Uracil\", \"y=0\"])\n",
    "    plt.show()"
   ]
  },
  {
   "cell_type": "code",
   "execution_count": 68,
   "metadata": {
    "ExecuteTime": {
     "end_time": "2023-12-12T02:16:46.295532Z",
     "start_time": "2023-12-12T02:16:46.283772Z"
    }
   },
   "outputs": [],
   "source": [
    "def eval_fm_alg(S):\n",
    "    P = (\n",
    "        S * W * a ** 2 * k * y * z + S * W * a * j * k * y * z + W ** 2 * a ** 2 * b * f * y + W ** 2 * a ** 2 * f * y * z + 2 * W ** 2 * a * b * f * j * y + 2 * W ** 2 * a * f * j * y * z + W ** 2 * b * f * j ** 2 * y + W ** 2 * f * j ** 2 * y * z) / (\n",
    "        S ** 2 * a ** 2 * k ** 2 * z + S * S_e * W * a ** 2 * k ** 2 * z + S * W * a ** 2 * f * k * z + S * W * a * f * j * k * z + S_e * W ** 2 * a ** 2 * f * k * z + S_e * W ** 2 * a * f * j * k * z)\n",
    "    Pb = (S * a * k * y * z + W * a * b * f * y + W * a * f * y * z + W * b * f * j * y + W * f * j * y * z) / (\n",
    "                S * a ** 2 * k * z + W * a ** 2 * f * z + W * a * f * j * z)\n",
    "    Pu = (S * a * k * y * z + W * a * b * f * y + W * a * f * y * z + W * b * f * j * y + W * f * j * y * z) / (\n",
    "                S * a * g * k * z + W * a * f * g * z + W * f * g * j * z)\n",
    "    E = (A_p * W * a * b * y + A_p * W * b * j * y) / (A_e * S * a * k * z + A_e * W * a * f * z + A_e * W * f * j * z)\n",
    "    Eb = A_p * S * b * k * y / (A_e * S * a * k * z + A_e * W * a * f * z + A_e * W * f * j * z)\n",
    "    Eu = A_p * y / (A_e * z)\n",
    "\n",
    "    return [P, Pb, Pu, E, Eb, Eu]"
   ]
  },
  {
   "cell_type": "code",
   "execution_count": 69,
   "metadata": {
    "ExecuteTime": {
     "end_time": "2023-12-12T02:16:46.295722Z",
     "start_time": "2023-12-12T02:16:46.289605Z"
    }
   },
   "outputs": [],
   "source": [
    "P = lambda S: (S*W*a**2*k*y*z + S*W*a*j*k*y*z + W**2*a**2*b*f*y + W**2*a**2*f*y*z + 2*W**2*a*b*f*j*y + 2*W**2*a*f*j*y*z + W**2*b*f*j**2*y + W**2*f*j**2*y*z)/(S**2*a**2*k**2*z + S*S_e*W*a**2*k**2*z + S*W*a**2*f*k*z + S*W*a*f*j*k*z + S_e*W**2*a**2*f*k*z + S_e*W**2*a*f*j*k*z)\n",
    "P_b = lambda S: (S*a*k*y*z + W*a*b*f*y + W*a*f*y*z + W*b*f*j*y + W*f*j*y*z)/(S*a**2*k*z + W*a**2*f*z + W*a*f*j*z)\n",
    "E = lambda S: (A_p*W*a*b*y + A_p*W*b*j*y)/(A_e*S*a*k*z + A_e*W*a*f*z + A_e*W*f*j*z)\n",
    "E_b = lambda S: A_p*S*b*k*y/(A_e*S*a*k*z + A_e*W*a*f*z + A_e*W*f*j*z)"
   ]
  },
  {
   "cell_type": "code",
   "execution_count": 70,
   "metadata": {
    "ExecuteTime": {
     "end_time": "2023-12-12T02:16:46.378090Z",
     "start_time": "2023-12-12T02:16:46.292943Z"
    }
   },
   "outputs": [
    {
     "data": {
      "text/plain": "<Figure size 640x480 with 1 Axes>",
      "image/png": "[encoded data removed]"
     },
     "metadata": {},
     "output_type": "display_data"
    },
    {
     "name": "stdout",
     "output_type": "stream",
     "text": [
      "The Steady State of S is:  0.3721458202435315\n"
     ]
    }
   ],
   "source": [
    "bisect_S(P, P_b, E, E_b)\n",
    "dSdt = lambda S: -(k/W)*S*((A_p/V)*P(S) + (A_e/V)*E(S)) + (j+a)*((A_p/V)*P_b(S) + (A_e/V)*E_b(S)) - V_m*S / (V*(K_m +S))\n",
    "root = opt.bisect(dSdt, 0, 1)\n",
    "\n",
    "print(\"The Steady State of S is: \", root)"
   ]
  },
  {
   "cell_type": "markdown",
   "metadata": {},
   "source": [
    "Compare and Verify"
   ]
  },
  {
   "cell_type": "code",
   "execution_count": 71,
   "metadata": {
    "ExecuteTime": {
     "end_time": "2023-12-12T02:16:46.392630Z",
     "start_time": "2023-12-12T02:16:46.380318Z"
    }
   },
   "outputs": [
    {
     "name": "stdout",
     "output_type": "stream",
     "text": [
      "Uracil:  True\n"
     ]
    }
   ],
   "source": [
    "def fm_func(initial_val, t, y, k, S_e, W, j, f, A_e, A_p, a, g, b, z, V_m, V, K_m):\n",
    "    P, P_b, P_u, E, E_b, E_u, S = initial_val\n",
    "\n",
    "    dPdt = y - k*S_e*P - (k/W)*S*P + j*P_b + f*(A_e/A_p)*E\n",
    "    dPbdt = k*S_e*P + (k/W)*S*P - j*P_b - a*P_b\n",
    "    dPudt = a*P_b - g*P_u\n",
    "    dEdt = b*E_u - (k/W)*S*E + j*E_b - f*E\n",
    "    dEbdt = (k/W)*S*E - j*E_b - a*E_b\n",
    "    dEudt = g*(A_p/A_e)*P_u - b*E_u + a*E_b - z*E_u\n",
    "    dSdt = -(k/W)*S*((A_p/V)*P + (A_e/V)*E) + (j+a)*((A_p/V)*P_b + (A_e/V)*E_b) - V_m*S / (V*(K_m +S))\n",
    "\n",
    "    return [dPdt, dPbdt, dPudt, dEdt, dEbdt, dEudt, dSdt]\n",
    "\n",
    "\n",
    "t_range = np.linspace(0, 400000, 100000)\n",
    "initial_val = [1,0,0,0,0,0,0]\n",
    "num_sol = odeint(fm_func, y0=initial_val, t=t_range, args=(y, k, S_e, W, j, f, A_e, A_p, a, g, b, z, V_m, V, K_m))[-1]\n",
    "\n",
    "\n",
    "print(\"Uracil: \", np.allclose(root, num_sol[-1]))"
   ]
  }
 ],
 "metadata": {
  "kernelspec": {
   "display_name": "Python 3 (ipykernel)",
   "language": "python",
   "name": "python3"
  },
  "language_info": {
   "codemirror_mode": {
    "name": "ipython",
    "version": 3
   },
   "file_extension": ".py",
   "mimetype": "text/x-python",
   "name": "python",
   "nbconvert_exporter": "python",
   "pygments_lexer": "ipython3",
   "version": "3.10.12"
  }
 },
 "nbformat": 4,
 "nbformat_minor": 1
}
