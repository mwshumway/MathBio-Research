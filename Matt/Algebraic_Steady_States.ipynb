{
 "cells": [
  {
   "cell_type": "code",
   "execution_count": 42,
   "metadata": {
    "collapsed": true,
    "ExecuteTime": {
     "end_time": "2023-12-10T03:29:49.697737Z",
     "start_time": "2023-12-10T03:29:49.689315Z"
    }
   },
   "outputs": [],
   "source": [
    "from sympy.solvers import solve\n",
    "from sympy import abc as _\n",
    "from sympy import Symbol"
   ]
  },
  {
   "cell_type": "markdown",
   "source": [
    "Plasma Membrane System"
   ],
   "metadata": {
    "collapsed": false
   }
  },
  {
   "cell_type": "code",
   "execution_count": 43,
   "outputs": [
    {
     "name": "stdout",
     "output_type": "stream",
     "text": [
      "{B: y/a, P: (A*E*W*a*y + A*E*W*j*y + E*M*W*a - sqrt(E*W*(A**2*E*W*a**2*y**2 + 2*A**2*E*W*a*j*y**2 + A**2*E*W*j**2*y**2 - 2*A*E*M*W*a**2*y - 2*A*E*M*W*a*j*y + 4*A*K*M*a**2*y + 4*A*K*M*a*j*y + E*M**2*W*a**2)))/(2*A*E*a*k*(E*W - K)), S: (E*W*(A*a*y + A*j*y - M*a) + sqrt(E*W*(A**2*E*W*a**2*y**2 + 2*A**2*E*W*a*j*y**2 + A**2*E*W*j**2*y**2 - 2*A*E*M*W*a**2*y - 2*A*E*M*W*a*j*y + 4*A*K*M*a**2*y + 4*A*K*M*a*j*y + E*M**2*W*a**2)))/(2*M*a), U: y/z}\n",
      "\n",
      "{B: y/a, P: (A*E*W*a*y + A*E*W*j*y + E*M*W*a + sqrt(E*W*(A**2*E*W*a**2*y**2 + 2*A**2*E*W*a*j*y**2 + A**2*E*W*j**2*y**2 - 2*A*E*M*W*a**2*y - 2*A*E*M*W*a*j*y + 4*A*K*M*a**2*y + 4*A*K*M*a*j*y + E*M**2*W*a**2)))/(2*A*E*a*k*(E*W - K)), S: (E*W*(A*a*y + A*j*y - M*a) - sqrt(E*W*(A**2*E*W*a**2*y**2 + 2*A**2*E*W*a*j*y**2 + A**2*E*W*j**2*y**2 - 2*A*E*M*W*a**2*y - 2*A*E*M*W*a*j*y + 4*A*K*M*a**2*y + 4*A*K*M*a*j*y + E*M**2*W*a**2)))/(2*M*a), U: y/z}\n"
     ]
    }
   ],
   "source": [
    "def Plasma_Membrane(P, S, B, U, y, k, E, W, j, a, z, A, V, M, K):\n",
    "    # E = S_e, B = P_b, U = P_u, A = A_p, M = V_max, K = K_m\n",
    "    system = [\n",
    "    y - (k*E*P) - (k/W * S * P) + (j * B),\n",
    "    (k*E*P) + (k/W * S * P) - (j*B) - (a*B),\n",
    "    (a*B) - (z * U),\n",
    "    -(A * k * S * P)/(V*W) + (A * (j+a)*B)/V - (M*S / (V*(K + S)))\n",
    "    ]\n",
    "    return solve(system, [P, B, U, S], dict=True)\n",
    "\n",
    "sol = Plasma_Membrane(_.P, _.S, _.B, _.U, _.y, _.k, _.E, _.W, _.j, _.a, _.z, _.A, _.V, _.M, _.K)\n",
    "\n",
    "# for eq in sol:\n",
    "#     print(eq, \"\\n\")\n",
    "print(sol[0])\n",
    "print()\n",
    "print(sol[1])\n"
   ],
   "metadata": {
    "collapsed": false,
    "ExecuteTime": {
     "end_time": "2023-12-10T03:29:50.740773Z",
     "start_time": "2023-12-10T03:29:49.707430Z"
    }
   }
  },
  {
   "cell_type": "markdown",
   "source": [
    "Full Model:"
   ],
   "metadata": {
    "collapsed": false
   }
  },
  {
   "cell_type": "code",
   "execution_count": 44,
   "outputs": [
    {
     "name": "stdout",
     "output_type": "stream",
     "text": [
      "[{P: (S*W*a**2*k*y*z + S*W*a*j*k*y*z + W**2*a**2*b*f*y + W**2*a**2*f*y*z + 2*W**2*a*b*f*j*y + 2*W**2*a*f*j*y*z + W**2*b*f*j**2*y + W**2*f*j**2*y*z)/(S**2*a**2*k**2*z + S*S_e*W*a**2*k**2*z + S*W*a**2*f*k*z + S*W*a*f*j*k*z + S_e*W**2*a**2*f*k*z + S_e*W**2*a*f*j*k*z), P_b: (S*a*k*y*z + W*a*b*f*y + W*a*f*y*z + W*b*f*j*y + W*f*j*y*z)/(S*a**2*k*z + W*a**2*f*z + W*a*f*j*z), P_u: (S*a*k*y*z + W*a*b*f*y + W*a*f*y*z + W*b*f*j*y + W*f*j*y*z)/(S*a*g*k*z + W*a*f*g*z + W*f*g*j*z), E: (A_p*W*a*b*y + A_p*W*b*j*y)/(A_e*S*a*k*z + A_e*W*a*f*z + A_e*W*f*j*z), E_b: A_p*S*b*k*y/(A_e*S*a*k*z + A_e*W*a*f*z + A_e*W*f*j*z), E_u: A_p*y/(A_e*z)}]\n"
     ]
    }
   ],
   "source": [
    "def Full_System():\n",
    "    y, k, S_e, P = Symbol(\"y\"), Symbol(\"k\"), Symbol(\"S_e\"), Symbol(\"P\")\n",
    "    W, S, j, P_b = Symbol(\"W\"), Symbol(\"S\"), Symbol(\"j\"), Symbol(\"P_b\")\n",
    "    A_e, A_p, E, a = Symbol(\"A_e\"), Symbol(\"A_p\"), Symbol(\"E\"), Symbol(\"a\")\n",
    "    g, P_u, b, E_u = Symbol(\"g\"), Symbol(\"P_u\"), Symbol(\"b\"), Symbol(\"E_u\")\n",
    "    E_b, z, V, V_max = Symbol(\"E_b\"), Symbol(\"z\"), Symbol(\"V\"), Symbol(\"V_max\")\n",
    "    K_m, f = Symbol(\"K_m\"), Symbol(\"f\")\n",
    "\n",
    "\n",
    "    system = [\n",
    "        y - k*S_e*P - (k/W)*S*P + j*P_b + f*(A_e/A_p)*E,\n",
    "        k*S_e*P + (k/W)*S*P - j*P_b - a*P_b,\n",
    "        a*P_b - g*P_u,\n",
    "        b*E_u - (k/W)*S*E + j*E_b - f*E,\n",
    "        (k/W)*S*E - j*E_b - a*E_b,\n",
    "        g*(A_p/A_e)*P_u - b*E_u + a*E_b - z*E_u\n",
    "    ]\n",
    "    return solve(system, [P,P_b, P_u, E, E_b, E_u], dict=True)\n",
    "\n",
    "print(Full_System())\n"
   ],
   "metadata": {
    "collapsed": false,
    "ExecuteTime": {
     "end_time": "2023-12-10T03:29:50.846191Z",
     "start_time": "2023-12-10T03:29:50.778465Z"
    }
   }
  }
 ],
 "metadata": {
  "kernelspec": {
   "display_name": "Python 3",
   "language": "python",
   "name": "python3"
  },
  "language_info": {
   "codemirror_mode": {
    "name": "ipython",
    "version": 2
   },
   "file_extension": ".py",
   "mimetype": "text/x-python",
   "name": "python",
   "nbconvert_exporter": "python",
   "pygments_lexer": "ipython2",
   "version": "2.7.6"
  }
 },
 "nbformat": 4,
 "nbformat_minor": 0
}
